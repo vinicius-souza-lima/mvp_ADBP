{
  "nbformat": 4,
  "nbformat_minor": 0,
  "metadata": {
    "colab": {
      "provenance": [],
      "toc_visible": true,
      "authorship_tag": "ABX9TyNt5nnCQpqp5j8YQqDacB2e",
      "include_colab_link": true
    },
    "kernelspec": {
      "name": "python3",
      "display_name": "Python 3"
    },
    "language_info": {
      "name": "python"
    }
  },
  "cells": [
    {
      "cell_type": "markdown",
      "metadata": {
        "id": "view-in-github",
        "colab_type": "text"
      },
      "source": [
        "<a href=\"https://colab.research.google.com/github/vinicius-souza-lima/mvp_ADBP/blob/main/MVP_ADBP.ipynb\" target=\"_parent\"><img src=\"https://colab.research.google.com/assets/colab-badge.svg\" alt=\"Open In Colab\"/></a>"
      ]
    },
    {
      "cell_type": "markdown",
      "source": [],
      "metadata": {
        "id": "LD5sD1DtksTv"
      }
    },
    {
      "cell_type": "markdown",
      "source": [
        "# Requisitos"
      ],
      "metadata": {
        "id": "LPIlbOaiktZx"
      }
    },
    {
      "cell_type": "markdown",
      "source": [
        "## Requisitos e composição da nota:\n",
        "\n",
        "*   (1,0 pt) Execução sem erros:o notebook deve poder ser executado pelo professor do início ao fim sem erros.\n",
        "*   (2,0 pts) Documentação consistente:utilize blocos de texto que expliquem textualmente cada etapa e cada decisão do seu código, contando uma história completa e compreensível, do início ao fim.\n",
        "*   (1,0 pt) Código limpo:seu código deve estar legível e organizado. Devem ser utilizadas as boas práticas de codificação vistas nas disciplinas Programação orientada a objetose Engenharia de software para ciência de dados, mas não é necessário que você crie classes no seu código.\n",
        "*   (2,0 pts) Análise de dados:após cada gráfico, você deverá escrever um parágrafo resumindo os principais achados, analisando os resultados e levantando eventuais pontos de atenção.\n",
        "*   (2,0 pts) Checklist:você deverá responder às perguntas (aplicáveis ao seu dataset) da checklist fornecida, utilizando-a como guia para o desenvolvimento do trabalho.\n",
        "*   (2,0 pts) Capricho e qualidade do trabalho como um todo.\n",
        "\n",
        "\n",
        "\n",
        "\n",
        "\n"
      ],
      "metadata": {
        "id": "uv0aJWwfkzqf"
      }
    },
    {
      "cell_type": "markdown",
      "source": [
        "## Definição do problema\n",
        "Objetivo: entender e descrever claramente o problema que está sendo resolvido.\n",
        "\n",
        "Qual é a descrição do problema?\n",
        "\n",
        "Dado um conjunto de características do meu jogo,quero prever como será seu resultado na Steam.\n",
        "\n",
        "Este é um problema de aprendizado supervisionado ou não supervisionado?\n",
        "\n",
        "Supervisionado\n",
        "\n",
        "\n",
        "Que premissas ou hipóteses você tem sobre o problema?\n",
        "Que restrições ou condições foram impostas para selecionar os dados?\n",
        "Defina cada um dos atributos do dataset."
      ],
      "metadata": {
        "id": "7cXeMu2qnUJ-"
      }
    },
    {
      "cell_type": "markdown",
      "source": [
        "## Análise de dados\n",
        "Objetivo: entender a informação disponível.\n",
        "\n",
        "Estatísticas descritivas:\n",
        "\n",
        "Quantos atributos e instâncias existem?\n",
        "Quais são os tipos de dados dos atributos?\n",
        "Verifique as primeiras linhas do dataset. Algo chama a atenção?\n",
        "Há valores faltantes, discrepantes ou inconsistentes?\n",
        "Faça um resumo estatístico dos atributos com valor numérico (mínimo, máximo, mediana, moda, média, desvio-padrão e número de valores ausentes). O que você percebe?"
      ],
      "metadata": {
        "id": "1zElFDeVnfnd"
      }
    },
    {
      "cell_type": "markdown",
      "source": [
        "## Visualizações:\n",
        "\n",
        "Verifique a distribuição de cada atributo. O que você percebe? Dica: esta etapa pode dar ideias sobre a necessidade de transformações na etapa de preparação de dados (por exemplo, converter atributos de um tipo para outro, realizar operações de discretização, normalização, padronização, etc.).\n",
        "Se for um problema de classificação, verifique a distribuição de frequência das classes. O que você percebe? Dica: esta etapa pode indicar a possível necessidade futura de balanceamento de classes.\n",
        "Analise os atributos individualmente ou de forma combinada, usando os gráficos mais apropriados."
      ],
      "metadata": {
        "id": "Wrk72aKsnlHV"
      }
    },
    {
      "cell_type": "markdown",
      "source": [
        "## Pré-processamento de dados:\n",
        "Objetivo: realizar operações de limpeza, tratamento e preparação dos dados.\n",
        "\n",
        "Verifique quais operações de pré-processamento podem ser interessantes para o seu problema e salve visões diferentes do seu dataset (por exemplo, normalização, padronização, discretização e one-hot-encoding).\n",
        "Trate (removendo ou substituindo) os valores faltantes (se existentes).\n",
        "Realize outras transformações de dados porventura necessárias.\n",
        "Explique, passo a passo, as operações realizadas, justificando cada uma delas.\n",
        "Se julgar necessário, utilizando os dados pré-processados, volte na etapa de análise exploratória e verifique se surge algum insight diferente após as operações realizadas."
      ],
      "metadata": {
        "id": "EUERvn9onpKE"
      }
    },
    {
      "cell_type": "markdown",
      "source": [
        "# Introdução"
      ],
      "metadata": {
        "id": "cCj00f88-XjM"
      }
    },
    {
      "cell_type": "markdown",
      "source": [
        "\n",
        "Nome:Vinícius de Souza Lima.\n",
        "\n",
        "Link para o Reposítório: [MVP Análise de Dados e Boas Práticas](https://github.com/vinicius-souza-lima/mvp_ADBP)\n",
        "\n",
        "\n",
        "Foi utilizado um dataset proveniente do Kaggle, [Steam Games Dataset](https://www.kaggle.com/datasets/fronkongames/steam-games-dataset?resource=download), o qual traz informações de mais de 85.000 jogos publicados na Steam, a maior plataforma de jogos de PC do mercado."
      ],
      "metadata": {
        "id": "_IzVrlEFxVvd"
      }
    },
    {
      "cell_type": "code",
      "execution_count": 2,
      "metadata": {
        "id": "kXOcHu64FJ2f"
      },
      "outputs": [],
      "source": [
        "import pandas as pd\n",
        "import numpy as np\n",
        "import matplotlib.pyplot as plt\n",
        "import seaborn as sns\n",
        "import missingno as ms"
      ]
    },
    {
      "cell_type": "code",
      "source": [
        "# Upload dos dados com carga do dataset através da url\n",
        "games = pd.DataFrame({})\n",
        "for i in range(10):\n",
        "  url_dados = 'https://raw.githubusercontent.com/vinicius-souza-lima/mvp_ADBP/main/dataset/games-'+ str(i+1) + '.csv'\n",
        "  games = pd.concat([games,pd.read_csv(url_dados)]).drop(columns = [\"AppID\",\"Screenshots\",\"Movies\",\n",
        "                                                                    \"Metacritic url\",\"Header image\",\"Website\",\n",
        "                                                                    \"Support url\", \"Support email\"])\n"
      ],
      "metadata": {
        "id": "mrXUdyPgPpxE"
      },
      "execution_count": 3,
      "outputs": []
    },
    {
      "cell_type": "code",
      "source": [
        "games.info()"
      ],
      "metadata": {
        "colab": {
          "base_uri": "https://localhost:8080/"
        },
        "id": "nNDlLPaDhxCU",
        "outputId": "72f246cc-17e7-42d6-8f7e-f077dad459e9"
      },
      "execution_count": null,
      "outputs": [
        {
          "output_type": "stream",
          "name": "stdout",
          "text": [
            "<class 'pandas.core.frame.DataFrame'>\n",
            "Index: 85103 entries, 0 to 8494\n",
            "Data columns (total 31 columns):\n",
            " #   Column                      Non-Null Count  Dtype  \n",
            "---  ------                      --------------  -----  \n",
            " 0   Name                        85097 non-null  object \n",
            " 1   Release date                85103 non-null  object \n",
            " 2   Estimated owners            85103 non-null  object \n",
            " 3   Peak CCU                    85103 non-null  int64  \n",
            " 4   Required age                85103 non-null  int64  \n",
            " 5   Price                       85103 non-null  float64\n",
            " 6   DLC count                   85103 non-null  int64  \n",
            " 7   About the game              81536 non-null  object \n",
            " 8   Supported languages         85103 non-null  object \n",
            " 9   Full audio languages        85103 non-null  object \n",
            " 10  Reviews                     9743 non-null   object \n",
            " 11  Windows                     85103 non-null  bool   \n",
            " 12  Mac                         85103 non-null  bool   \n",
            " 13  Linux                       85103 non-null  bool   \n",
            " 14  Metacritic score            85103 non-null  int64  \n",
            " 15  User score                  85103 non-null  int64  \n",
            " 16  Positive                    85103 non-null  int64  \n",
            " 17  Negative                    85103 non-null  int64  \n",
            " 18  Score rank                  44 non-null     float64\n",
            " 19  Achievements                85103 non-null  int64  \n",
            " 20  Recommendations             85103 non-null  int64  \n",
            " 21  Notes                       13021 non-null  object \n",
            " 22  Average playtime forever    85103 non-null  int64  \n",
            " 23  Average playtime two weeks  85103 non-null  int64  \n",
            " 24  Median playtime forever     85103 non-null  int64  \n",
            " 25  Median playtime two weeks   85103 non-null  int64  \n",
            " 26  Developers                  81516 non-null  object \n",
            " 27  Publishers                  81236 non-null  object \n",
            " 28  Categories                  80505 non-null  object \n",
            " 29  Genres                      81548 non-null  object \n",
            " 30  Tags                        64003 non-null  object \n",
            "dtypes: bool(3), float64(2), int64(13), object(13)\n",
            "memory usage: 19.1+ MB\n"
          ]
        }
      ]
    },
    {
      "cell_type": "code",
      "source": [
        "games[\"Release date\"] = pd.to_datetime(games[\"Release date\"],format = \"mixed\") #1\n",
        "games[\"Estimated owners\"] = games[\"Estimated owners\"].astype(\"category\") #2"
      ],
      "metadata": {
        "id": "VP94Uy_FePB4"
      },
      "execution_count": null,
      "outputs": []
    },
    {
      "cell_type": "code",
      "source": [
        "games.info()"
      ],
      "metadata": {
        "colab": {
          "base_uri": "https://localhost:8080/"
        },
        "id": "594eSe92isNO",
        "outputId": "77eb71a3-06f0-4eb6-9328-f335d0524737"
      },
      "execution_count": null,
      "outputs": [
        {
          "output_type": "stream",
          "name": "stdout",
          "text": [
            "<class 'pandas.core.frame.DataFrame'>\n",
            "Index: 85103 entries, 0 to 8494\n",
            "Data columns (total 31 columns):\n",
            " #   Column                      Non-Null Count  Dtype         \n",
            "---  ------                      --------------  -----         \n",
            " 0   Name                        85097 non-null  object        \n",
            " 1   Release date                85103 non-null  datetime64[ns]\n",
            " 2   Estimated owners            85103 non-null  category      \n",
            " 3   Peak CCU                    85103 non-null  int64         \n",
            " 4   Required age                85103 non-null  int64         \n",
            " 5   Price                       85103 non-null  float64       \n",
            " 6   DLC count                   85103 non-null  int64         \n",
            " 7   About the game              81536 non-null  object        \n",
            " 8   Supported languages         85103 non-null  object        \n",
            " 9   Full audio languages        85103 non-null  object        \n",
            " 10  Reviews                     9743 non-null   object        \n",
            " 11  Windows                     85103 non-null  bool          \n",
            " 12  Mac                         85103 non-null  bool          \n",
            " 13  Linux                       85103 non-null  bool          \n",
            " 14  Metacritic score            85103 non-null  int64         \n",
            " 15  User score                  85103 non-null  int64         \n",
            " 16  Positive                    85103 non-null  int64         \n",
            " 17  Negative                    85103 non-null  int64         \n",
            " 18  Score rank                  44 non-null     float64       \n",
            " 19  Achievements                85103 non-null  int64         \n",
            " 20  Recommendations             85103 non-null  int64         \n",
            " 21  Notes                       13021 non-null  object        \n",
            " 22  Average playtime forever    85103 non-null  int64         \n",
            " 23  Average playtime two weeks  85103 non-null  int64         \n",
            " 24  Median playtime forever     85103 non-null  int64         \n",
            " 25  Median playtime two weeks   85103 non-null  int64         \n",
            " 26  Developers                  81516 non-null  object        \n",
            " 27  Publishers                  81236 non-null  object        \n",
            " 28  Categories                  80505 non-null  object        \n",
            " 29  Genres                      81548 non-null  object        \n",
            " 30  Tags                        64003 non-null  object        \n",
            "dtypes: bool(3), category(1), datetime64[ns](1), float64(2), int64(13), object(11)\n",
            "memory usage: 18.5+ MB\n"
          ]
        }
      ]
    },
    {
      "cell_type": "code",
      "source": [
        "games_sample = games.select_dtypes(include=np.number)\n",
        "games_sample = games_sample.iloc[:,:5]"
      ],
      "metadata": {
        "id": "4Dy3oo5esiIp"
      },
      "execution_count": null,
      "outputs": []
    },
    {
      "cell_type": "code",
      "source": [
        "games_sample.info()"
      ],
      "metadata": {
        "colab": {
          "base_uri": "https://localhost:8080/"
        },
        "id": "QXk92C5CyBl9",
        "outputId": "6f1f0368-6ab8-489f-9a72-258959d6f870"
      },
      "execution_count": null,
      "outputs": [
        {
          "output_type": "stream",
          "name": "stdout",
          "text": [
            "<class 'pandas.core.frame.DataFrame'>\n",
            "Index: 85103 entries, 0 to 8494\n",
            "Data columns (total 5 columns):\n",
            " #   Column            Non-Null Count  Dtype  \n",
            "---  ------            --------------  -----  \n",
            " 0   Peak CCU          85103 non-null  int64  \n",
            " 1   Required age      85103 non-null  int64  \n",
            " 2   Price             85103 non-null  float64\n",
            " 3   DLC count         85103 non-null  int64  \n",
            " 4   Metacritic score  85103 non-null  int64  \n",
            "dtypes: float64(1), int64(4)\n",
            "memory usage: 3.9 MB\n"
          ]
        }
      ]
    },
    {
      "cell_type": "markdown",
      "source": [
        "# Definição do Problema"
      ],
      "metadata": {
        "id": "SAF5skOk_mh0"
      }
    },
    {
      "cell_type": "markdown",
      "source": [
        "# Análise de Dados"
      ],
      "metadata": {
        "id": "tX4TrJ0c-AzI"
      }
    },
    {
      "cell_type": "markdown",
      "source": [
        "## Estatísticas descritivas"
      ],
      "metadata": {
        "id": "Ga2gfmJDiK7g"
      }
    },
    {
      "cell_type": "markdown",
      "source": [
        "### Verificação das primeiras linhas"
      ],
      "metadata": {
        "id": "86BhLmi4wnh5"
      }
    },
    {
      "cell_type": "code",
      "source": [
        "games.head()"
      ],
      "metadata": {
        "colab": {
          "base_uri": "https://localhost:8080/",
          "height": 672
        },
        "id": "UWV3wCnJc3eb",
        "outputId": "944dafe5-6cef-4153-9762-89619d7f1d04"
      },
      "execution_count": null,
      "outputs": [
        {
          "output_type": "execute_result",
          "data": {
            "text/plain": [
              "                    Name Release date Estimated owners  Peak CCU  \\\n",
              "0       Galactic Bowling   2008-10-21        0 - 20000         0   \n",
              "1           Train Bandit   2017-10-12        0 - 20000         0   \n",
              "2           Jolt Project   2021-11-17        0 - 20000         0   \n",
              "3               Henosis™   2020-07-23        0 - 20000         0   \n",
              "4  Two Weeks in Painland   2020-02-03        0 - 20000         0   \n",
              "\n",
              "   Required age  Price  DLC count  \\\n",
              "0             0  19.99          0   \n",
              "1             0   0.99          0   \n",
              "2             0   4.99          0   \n",
              "3             0   5.99          0   \n",
              "4             0   0.00          0   \n",
              "\n",
              "                                      About the game  \\\n",
              "0  Galactic Bowling is an exaggerated and stylize...   \n",
              "1  THE LAW!! Looks to be a showdown atop a train....   \n",
              "2  Jolt Project: The army now has a new robotics ...   \n",
              "3  HENOSIS™ is a mysterious 2D Platform Puzzler w...   \n",
              "4  ABOUT THE GAME Play as a hacker who has arrang...   \n",
              "\n",
              "                                 Supported languages Full audio languages  \\\n",
              "0                                        ['English']                   []   \n",
              "1  ['English', 'French', 'Italian', 'German', 'Sp...                   []   \n",
              "2                 ['English', 'Portuguese - Brazil']                   []   \n",
              "3  ['English', 'French', 'Italian', 'German', 'Sp...                   []   \n",
              "4                     ['English', 'Spanish - Spain']                   []   \n",
              "\n",
              "   ...  Recommendations  Average playtime forever  Average playtime two weeks  \\\n",
              "0  ...                0                         0                           0   \n",
              "1  ...                0                         0                           0   \n",
              "2  ...                0                         0                           0   \n",
              "3  ...                0                         0                           0   \n",
              "4  ...                0                         0                           0   \n",
              "\n",
              "   Median playtime forever  Median playtime two weeks             Developers  \\\n",
              "0                        0                          0  Perpetual FX Creative   \n",
              "1                        0                          0           Rusty Moyher   \n",
              "2                        0                          0          Campião Games   \n",
              "3                        0                          0      Odd Critter Games   \n",
              "4                        0                          0          Unusual Games   \n",
              "\n",
              "              Publishers                                         Categories  \\\n",
              "0  Perpetual FX Creative  Single-player,Multi-player,Steam Achievements,...   \n",
              "1           Wild Rooster  Single-player,Steam Achievements,Full controll...   \n",
              "2          Campião Games                                      Single-player   \n",
              "3      Odd Critter Games              Single-player,Full controller support   \n",
              "4          Unusual Games                   Single-player,Steam Achievements   \n",
              "\n",
              "                            Genres  \\\n",
              "0              Casual,Indie,Sports   \n",
              "1                     Action,Indie   \n",
              "2  Action,Adventure,Indie,Strategy   \n",
              "3           Adventure,Casual,Indie   \n",
              "4                  Adventure,Indie   \n",
              "\n",
              "                                                Tags  \n",
              "0                        Indie,Casual,Sports,Bowling  \n",
              "1  Indie,Action,Pixel Graphics,2D,Retro,Arcade,Sc...  \n",
              "2                                                NaN  \n",
              "3  2D Platformer,Atmospheric,Surreal,Mystery,Puzz...  \n",
              "4  Indie,Adventure,Nudity,Violent,Sexual Content,...  \n",
              "\n",
              "[5 rows x 28 columns]"
            ],
            "text/html": [
              "\n",
              "  <div id=\"df-0ae21e6d-1bb9-45b0-8d39-2c9c1f69a4de\" class=\"colab-df-container\">\n",
              "    <div>\n",
              "<style scoped>\n",
              "    .dataframe tbody tr th:only-of-type {\n",
              "        vertical-align: middle;\n",
              "    }\n",
              "\n",
              "    .dataframe tbody tr th {\n",
              "        vertical-align: top;\n",
              "    }\n",
              "\n",
              "    .dataframe thead th {\n",
              "        text-align: right;\n",
              "    }\n",
              "</style>\n",
              "<table border=\"1\" class=\"dataframe\">\n",
              "  <thead>\n",
              "    <tr style=\"text-align: right;\">\n",
              "      <th></th>\n",
              "      <th>Name</th>\n",
              "      <th>Release date</th>\n",
              "      <th>Estimated owners</th>\n",
              "      <th>Peak CCU</th>\n",
              "      <th>Required age</th>\n",
              "      <th>Price</th>\n",
              "      <th>DLC count</th>\n",
              "      <th>About the game</th>\n",
              "      <th>Supported languages</th>\n",
              "      <th>Full audio languages</th>\n",
              "      <th>...</th>\n",
              "      <th>Recommendations</th>\n",
              "      <th>Average playtime forever</th>\n",
              "      <th>Average playtime two weeks</th>\n",
              "      <th>Median playtime forever</th>\n",
              "      <th>Median playtime two weeks</th>\n",
              "      <th>Developers</th>\n",
              "      <th>Publishers</th>\n",
              "      <th>Categories</th>\n",
              "      <th>Genres</th>\n",
              "      <th>Tags</th>\n",
              "    </tr>\n",
              "  </thead>\n",
              "  <tbody>\n",
              "    <tr>\n",
              "      <th>0</th>\n",
              "      <td>Galactic Bowling</td>\n",
              "      <td>2008-10-21</td>\n",
              "      <td>0 - 20000</td>\n",
              "      <td>0</td>\n",
              "      <td>0</td>\n",
              "      <td>19.99</td>\n",
              "      <td>0</td>\n",
              "      <td>Galactic Bowling is an exaggerated and stylize...</td>\n",
              "      <td>['English']</td>\n",
              "      <td>[]</td>\n",
              "      <td>...</td>\n",
              "      <td>0</td>\n",
              "      <td>0</td>\n",
              "      <td>0</td>\n",
              "      <td>0</td>\n",
              "      <td>0</td>\n",
              "      <td>Perpetual FX Creative</td>\n",
              "      <td>Perpetual FX Creative</td>\n",
              "      <td>Single-player,Multi-player,Steam Achievements,...</td>\n",
              "      <td>Casual,Indie,Sports</td>\n",
              "      <td>Indie,Casual,Sports,Bowling</td>\n",
              "    </tr>\n",
              "    <tr>\n",
              "      <th>1</th>\n",
              "      <td>Train Bandit</td>\n",
              "      <td>2017-10-12</td>\n",
              "      <td>0 - 20000</td>\n",
              "      <td>0</td>\n",
              "      <td>0</td>\n",
              "      <td>0.99</td>\n",
              "      <td>0</td>\n",
              "      <td>THE LAW!! Looks to be a showdown atop a train....</td>\n",
              "      <td>['English', 'French', 'Italian', 'German', 'Sp...</td>\n",
              "      <td>[]</td>\n",
              "      <td>...</td>\n",
              "      <td>0</td>\n",
              "      <td>0</td>\n",
              "      <td>0</td>\n",
              "      <td>0</td>\n",
              "      <td>0</td>\n",
              "      <td>Rusty Moyher</td>\n",
              "      <td>Wild Rooster</td>\n",
              "      <td>Single-player,Steam Achievements,Full controll...</td>\n",
              "      <td>Action,Indie</td>\n",
              "      <td>Indie,Action,Pixel Graphics,2D,Retro,Arcade,Sc...</td>\n",
              "    </tr>\n",
              "    <tr>\n",
              "      <th>2</th>\n",
              "      <td>Jolt Project</td>\n",
              "      <td>2021-11-17</td>\n",
              "      <td>0 - 20000</td>\n",
              "      <td>0</td>\n",
              "      <td>0</td>\n",
              "      <td>4.99</td>\n",
              "      <td>0</td>\n",
              "      <td>Jolt Project: The army now has a new robotics ...</td>\n",
              "      <td>['English', 'Portuguese - Brazil']</td>\n",
              "      <td>[]</td>\n",
              "      <td>...</td>\n",
              "      <td>0</td>\n",
              "      <td>0</td>\n",
              "      <td>0</td>\n",
              "      <td>0</td>\n",
              "      <td>0</td>\n",
              "      <td>Campião Games</td>\n",
              "      <td>Campião Games</td>\n",
              "      <td>Single-player</td>\n",
              "      <td>Action,Adventure,Indie,Strategy</td>\n",
              "      <td>NaN</td>\n",
              "    </tr>\n",
              "    <tr>\n",
              "      <th>3</th>\n",
              "      <td>Henosis™</td>\n",
              "      <td>2020-07-23</td>\n",
              "      <td>0 - 20000</td>\n",
              "      <td>0</td>\n",
              "      <td>0</td>\n",
              "      <td>5.99</td>\n",
              "      <td>0</td>\n",
              "      <td>HENOSIS™ is a mysterious 2D Platform Puzzler w...</td>\n",
              "      <td>['English', 'French', 'Italian', 'German', 'Sp...</td>\n",
              "      <td>[]</td>\n",
              "      <td>...</td>\n",
              "      <td>0</td>\n",
              "      <td>0</td>\n",
              "      <td>0</td>\n",
              "      <td>0</td>\n",
              "      <td>0</td>\n",
              "      <td>Odd Critter Games</td>\n",
              "      <td>Odd Critter Games</td>\n",
              "      <td>Single-player,Full controller support</td>\n",
              "      <td>Adventure,Casual,Indie</td>\n",
              "      <td>2D Platformer,Atmospheric,Surreal,Mystery,Puzz...</td>\n",
              "    </tr>\n",
              "    <tr>\n",
              "      <th>4</th>\n",
              "      <td>Two Weeks in Painland</td>\n",
              "      <td>2020-02-03</td>\n",
              "      <td>0 - 20000</td>\n",
              "      <td>0</td>\n",
              "      <td>0</td>\n",
              "      <td>0.00</td>\n",
              "      <td>0</td>\n",
              "      <td>ABOUT THE GAME Play as a hacker who has arrang...</td>\n",
              "      <td>['English', 'Spanish - Spain']</td>\n",
              "      <td>[]</td>\n",
              "      <td>...</td>\n",
              "      <td>0</td>\n",
              "      <td>0</td>\n",
              "      <td>0</td>\n",
              "      <td>0</td>\n",
              "      <td>0</td>\n",
              "      <td>Unusual Games</td>\n",
              "      <td>Unusual Games</td>\n",
              "      <td>Single-player,Steam Achievements</td>\n",
              "      <td>Adventure,Indie</td>\n",
              "      <td>Indie,Adventure,Nudity,Violent,Sexual Content,...</td>\n",
              "    </tr>\n",
              "  </tbody>\n",
              "</table>\n",
              "<p>5 rows × 28 columns</p>\n",
              "</div>\n",
              "    <div class=\"colab-df-buttons\">\n",
              "\n",
              "  <div class=\"colab-df-container\">\n",
              "    <button class=\"colab-df-convert\" onclick=\"convertToInteractive('df-0ae21e6d-1bb9-45b0-8d39-2c9c1f69a4de')\"\n",
              "            title=\"Convert this dataframe to an interactive table.\"\n",
              "            style=\"display:none;\">\n",
              "\n",
              "  <svg xmlns=\"http://www.w3.org/2000/svg\" height=\"24px\" viewBox=\"0 -960 960 960\">\n",
              "    <path d=\"M120-120v-720h720v720H120Zm60-500h600v-160H180v160Zm220 220h160v-160H400v160Zm0 220h160v-160H400v160ZM180-400h160v-160H180v160Zm440 0h160v-160H620v160ZM180-180h160v-160H180v160Zm440 0h160v-160H620v160Z\"/>\n",
              "  </svg>\n",
              "    </button>\n",
              "\n",
              "  <style>\n",
              "    .colab-df-container {\n",
              "      display:flex;\n",
              "      gap: 12px;\n",
              "    }\n",
              "\n",
              "    .colab-df-convert {\n",
              "      background-color: #E8F0FE;\n",
              "      border: none;\n",
              "      border-radius: 50%;\n",
              "      cursor: pointer;\n",
              "      display: none;\n",
              "      fill: #1967D2;\n",
              "      height: 32px;\n",
              "      padding: 0 0 0 0;\n",
              "      width: 32px;\n",
              "    }\n",
              "\n",
              "    .colab-df-convert:hover {\n",
              "      background-color: #E2EBFA;\n",
              "      box-shadow: 0px 1px 2px rgba(60, 64, 67, 0.3), 0px 1px 3px 1px rgba(60, 64, 67, 0.15);\n",
              "      fill: #174EA6;\n",
              "    }\n",
              "\n",
              "    .colab-df-buttons div {\n",
              "      margin-bottom: 4px;\n",
              "    }\n",
              "\n",
              "    [theme=dark] .colab-df-convert {\n",
              "      background-color: #3B4455;\n",
              "      fill: #D2E3FC;\n",
              "    }\n",
              "\n",
              "    [theme=dark] .colab-df-convert:hover {\n",
              "      background-color: #434B5C;\n",
              "      box-shadow: 0px 1px 3px 1px rgba(0, 0, 0, 0.15);\n",
              "      filter: drop-shadow(0px 1px 2px rgba(0, 0, 0, 0.3));\n",
              "      fill: #FFFFFF;\n",
              "    }\n",
              "  </style>\n",
              "\n",
              "    <script>\n",
              "      const buttonEl =\n",
              "        document.querySelector('#df-0ae21e6d-1bb9-45b0-8d39-2c9c1f69a4de button.colab-df-convert');\n",
              "      buttonEl.style.display =\n",
              "        google.colab.kernel.accessAllowed ? 'block' : 'none';\n",
              "\n",
              "      async function convertToInteractive(key) {\n",
              "        const element = document.querySelector('#df-0ae21e6d-1bb9-45b0-8d39-2c9c1f69a4de');\n",
              "        const dataTable =\n",
              "          await google.colab.kernel.invokeFunction('convertToInteractive',\n",
              "                                                    [key], {});\n",
              "        if (!dataTable) return;\n",
              "\n",
              "        const docLinkHtml = 'Like what you see? Visit the ' +\n",
              "          '<a target=\"_blank\" href=https://colab.research.google.com/notebooks/data_table.ipynb>data table notebook</a>'\n",
              "          + ' to learn more about interactive tables.';\n",
              "        element.innerHTML = '';\n",
              "        dataTable['output_type'] = 'display_data';\n",
              "        await google.colab.output.renderOutput(dataTable, element);\n",
              "        const docLink = document.createElement('div');\n",
              "        docLink.innerHTML = docLinkHtml;\n",
              "        element.appendChild(docLink);\n",
              "      }\n",
              "    </script>\n",
              "  </div>\n",
              "\n",
              "\n",
              "<div id=\"df-f6c13554-56eb-483c-b3fe-55f9c3234296\">\n",
              "  <button class=\"colab-df-quickchart\" onclick=\"quickchart('df-f6c13554-56eb-483c-b3fe-55f9c3234296')\"\n",
              "            title=\"Suggest charts\"\n",
              "            style=\"display:none;\">\n",
              "\n",
              "<svg xmlns=\"http://www.w3.org/2000/svg\" height=\"24px\"viewBox=\"0 0 24 24\"\n",
              "     width=\"24px\">\n",
              "    <g>\n",
              "        <path d=\"M19 3H5c-1.1 0-2 .9-2 2v14c0 1.1.9 2 2 2h14c1.1 0 2-.9 2-2V5c0-1.1-.9-2-2-2zM9 17H7v-7h2v7zm4 0h-2V7h2v10zm4 0h-2v-4h2v4z\"/>\n",
              "    </g>\n",
              "</svg>\n",
              "  </button>\n",
              "\n",
              "<style>\n",
              "  .colab-df-quickchart {\n",
              "      --bg-color: #E8F0FE;\n",
              "      --fill-color: #1967D2;\n",
              "      --hover-bg-color: #E2EBFA;\n",
              "      --hover-fill-color: #174EA6;\n",
              "      --disabled-fill-color: #AAA;\n",
              "      --disabled-bg-color: #DDD;\n",
              "  }\n",
              "\n",
              "  [theme=dark] .colab-df-quickchart {\n",
              "      --bg-color: #3B4455;\n",
              "      --fill-color: #D2E3FC;\n",
              "      --hover-bg-color: #434B5C;\n",
              "      --hover-fill-color: #FFFFFF;\n",
              "      --disabled-bg-color: #3B4455;\n",
              "      --disabled-fill-color: #666;\n",
              "  }\n",
              "\n",
              "  .colab-df-quickchart {\n",
              "    background-color: var(--bg-color);\n",
              "    border: none;\n",
              "    border-radius: 50%;\n",
              "    cursor: pointer;\n",
              "    display: none;\n",
              "    fill: var(--fill-color);\n",
              "    height: 32px;\n",
              "    padding: 0;\n",
              "    width: 32px;\n",
              "  }\n",
              "\n",
              "  .colab-df-quickchart:hover {\n",
              "    background-color: var(--hover-bg-color);\n",
              "    box-shadow: 0 1px 2px rgba(60, 64, 67, 0.3), 0 1px 3px 1px rgba(60, 64, 67, 0.15);\n",
              "    fill: var(--button-hover-fill-color);\n",
              "  }\n",
              "\n",
              "  .colab-df-quickchart-complete:disabled,\n",
              "  .colab-df-quickchart-complete:disabled:hover {\n",
              "    background-color: var(--disabled-bg-color);\n",
              "    fill: var(--disabled-fill-color);\n",
              "    box-shadow: none;\n",
              "  }\n",
              "\n",
              "  .colab-df-spinner {\n",
              "    border: 2px solid var(--fill-color);\n",
              "    border-color: transparent;\n",
              "    border-bottom-color: var(--fill-color);\n",
              "    animation:\n",
              "      spin 1s steps(1) infinite;\n",
              "  }\n",
              "\n",
              "  @keyframes spin {\n",
              "    0% {\n",
              "      border-color: transparent;\n",
              "      border-bottom-color: var(--fill-color);\n",
              "      border-left-color: var(--fill-color);\n",
              "    }\n",
              "    20% {\n",
              "      border-color: transparent;\n",
              "      border-left-color: var(--fill-color);\n",
              "      border-top-color: var(--fill-color);\n",
              "    }\n",
              "    30% {\n",
              "      border-color: transparent;\n",
              "      border-left-color: var(--fill-color);\n",
              "      border-top-color: var(--fill-color);\n",
              "      border-right-color: var(--fill-color);\n",
              "    }\n",
              "    40% {\n",
              "      border-color: transparent;\n",
              "      border-right-color: var(--fill-color);\n",
              "      border-top-color: var(--fill-color);\n",
              "    }\n",
              "    60% {\n",
              "      border-color: transparent;\n",
              "      border-right-color: var(--fill-color);\n",
              "    }\n",
              "    80% {\n",
              "      border-color: transparent;\n",
              "      border-right-color: var(--fill-color);\n",
              "      border-bottom-color: var(--fill-color);\n",
              "    }\n",
              "    90% {\n",
              "      border-color: transparent;\n",
              "      border-bottom-color: var(--fill-color);\n",
              "    }\n",
              "  }\n",
              "</style>\n",
              "\n",
              "  <script>\n",
              "    async function quickchart(key) {\n",
              "      const quickchartButtonEl =\n",
              "        document.querySelector('#' + key + ' button');\n",
              "      quickchartButtonEl.disabled = true;  // To prevent multiple clicks.\n",
              "      quickchartButtonEl.classList.add('colab-df-spinner');\n",
              "      try {\n",
              "        const charts = await google.colab.kernel.invokeFunction(\n",
              "            'suggestCharts', [key], {});\n",
              "      } catch (error) {\n",
              "        console.error('Error during call to suggestCharts:', error);\n",
              "      }\n",
              "      quickchartButtonEl.classList.remove('colab-df-spinner');\n",
              "      quickchartButtonEl.classList.add('colab-df-quickchart-complete');\n",
              "    }\n",
              "    (() => {\n",
              "      let quickchartButtonEl =\n",
              "        document.querySelector('#df-f6c13554-56eb-483c-b3fe-55f9c3234296 button');\n",
              "      quickchartButtonEl.style.display =\n",
              "        google.colab.kernel.accessAllowed ? 'block' : 'none';\n",
              "    })();\n",
              "  </script>\n",
              "</div>\n",
              "\n",
              "    </div>\n",
              "  </div>\n"
            ],
            "application/vnd.google.colaboratory.intrinsic+json": {
              "type": "dataframe",
              "variable_name": "games"
            }
          },
          "metadata": {},
          "execution_count": 13
        }
      ]
    },
    {
      "cell_type": "markdown",
      "source": [
        "Chama a atenção que inglês parece estar sempre presente entre as linguagens suportadas e que são mais comuns jogos com classificação indicativa livre."
      ],
      "metadata": {
        "id": "JhZm72QedEi-"
      }
    },
    {
      "cell_type": "markdown",
      "source": [
        "### Valores faltantes"
      ],
      "metadata": {
        "id": "WpOF4NEvwy7n"
      }
    },
    {
      "cell_type": "code",
      "source": [
        "games.isnull().sum().sort_values(ascending = False)"
      ],
      "metadata": {
        "colab": {
          "base_uri": "https://localhost:8080/",
          "height": 962
        },
        "id": "INNGh0Rpo5-e",
        "outputId": "3c32e765-b306-47c8-a798-17c0e68a662a"
      },
      "execution_count": null,
      "outputs": [
        {
          "output_type": "execute_result",
          "data": {
            "text/plain": [
              "Tags                          21100\n",
              "Categories                     4598\n",
              "Publishers                     3867\n",
              "Developers                     3587\n",
              "About the game                 3567\n",
              "Genres                         3555\n",
              "Name                              6\n",
              "DLC count                         0\n",
              "Recommendations                   0\n",
              "Estimated owners                  0\n",
              "Peak CCU                          0\n",
              "Required age                      0\n",
              "Price                             0\n",
              "Median playtime two weeks         0\n",
              "Median playtime forever           0\n",
              "Average playtime two weeks        0\n",
              "Average playtime forever          0\n",
              "Achievements                      0\n",
              "Supported languages               0\n",
              "Negative                          0\n",
              "Positive                          0\n",
              "Release date                      0\n",
              "Metacritic score                  0\n",
              "Linux                             0\n",
              "Mac                               0\n",
              "Windows                           0\n",
              "Full audio languages              0\n",
              "User score                        0\n",
              "dtype: int64"
            ],
            "text/html": [
              "<div>\n",
              "<style scoped>\n",
              "    .dataframe tbody tr th:only-of-type {\n",
              "        vertical-align: middle;\n",
              "    }\n",
              "\n",
              "    .dataframe tbody tr th {\n",
              "        vertical-align: top;\n",
              "    }\n",
              "\n",
              "    .dataframe thead th {\n",
              "        text-align: right;\n",
              "    }\n",
              "</style>\n",
              "<table border=\"1\" class=\"dataframe\">\n",
              "  <thead>\n",
              "    <tr style=\"text-align: right;\">\n",
              "      <th></th>\n",
              "      <th>0</th>\n",
              "    </tr>\n",
              "  </thead>\n",
              "  <tbody>\n",
              "    <tr>\n",
              "      <th>Tags</th>\n",
              "      <td>21100</td>\n",
              "    </tr>\n",
              "    <tr>\n",
              "      <th>Categories</th>\n",
              "      <td>4598</td>\n",
              "    </tr>\n",
              "    <tr>\n",
              "      <th>Publishers</th>\n",
              "      <td>3867</td>\n",
              "    </tr>\n",
              "    <tr>\n",
              "      <th>Developers</th>\n",
              "      <td>3587</td>\n",
              "    </tr>\n",
              "    <tr>\n",
              "      <th>About the game</th>\n",
              "      <td>3567</td>\n",
              "    </tr>\n",
              "    <tr>\n",
              "      <th>Genres</th>\n",
              "      <td>3555</td>\n",
              "    </tr>\n",
              "    <tr>\n",
              "      <th>Name</th>\n",
              "      <td>6</td>\n",
              "    </tr>\n",
              "    <tr>\n",
              "      <th>DLC count</th>\n",
              "      <td>0</td>\n",
              "    </tr>\n",
              "    <tr>\n",
              "      <th>Recommendations</th>\n",
              "      <td>0</td>\n",
              "    </tr>\n",
              "    <tr>\n",
              "      <th>Estimated owners</th>\n",
              "      <td>0</td>\n",
              "    </tr>\n",
              "    <tr>\n",
              "      <th>Peak CCU</th>\n",
              "      <td>0</td>\n",
              "    </tr>\n",
              "    <tr>\n",
              "      <th>Required age</th>\n",
              "      <td>0</td>\n",
              "    </tr>\n",
              "    <tr>\n",
              "      <th>Price</th>\n",
              "      <td>0</td>\n",
              "    </tr>\n",
              "    <tr>\n",
              "      <th>Median playtime two weeks</th>\n",
              "      <td>0</td>\n",
              "    </tr>\n",
              "    <tr>\n",
              "      <th>Median playtime forever</th>\n",
              "      <td>0</td>\n",
              "    </tr>\n",
              "    <tr>\n",
              "      <th>Average playtime two weeks</th>\n",
              "      <td>0</td>\n",
              "    </tr>\n",
              "    <tr>\n",
              "      <th>Average playtime forever</th>\n",
              "      <td>0</td>\n",
              "    </tr>\n",
              "    <tr>\n",
              "      <th>Achievements</th>\n",
              "      <td>0</td>\n",
              "    </tr>\n",
              "    <tr>\n",
              "      <th>Supported languages</th>\n",
              "      <td>0</td>\n",
              "    </tr>\n",
              "    <tr>\n",
              "      <th>Negative</th>\n",
              "      <td>0</td>\n",
              "    </tr>\n",
              "    <tr>\n",
              "      <th>Positive</th>\n",
              "      <td>0</td>\n",
              "    </tr>\n",
              "    <tr>\n",
              "      <th>Release date</th>\n",
              "      <td>0</td>\n",
              "    </tr>\n",
              "    <tr>\n",
              "      <th>Metacritic score</th>\n",
              "      <td>0</td>\n",
              "    </tr>\n",
              "    <tr>\n",
              "      <th>Linux</th>\n",
              "      <td>0</td>\n",
              "    </tr>\n",
              "    <tr>\n",
              "      <th>Mac</th>\n",
              "      <td>0</td>\n",
              "    </tr>\n",
              "    <tr>\n",
              "      <th>Windows</th>\n",
              "      <td>0</td>\n",
              "    </tr>\n",
              "    <tr>\n",
              "      <th>Full audio languages</th>\n",
              "      <td>0</td>\n",
              "    </tr>\n",
              "    <tr>\n",
              "      <th>User score</th>\n",
              "      <td>0</td>\n",
              "    </tr>\n",
              "  </tbody>\n",
              "</table>\n",
              "</div><br><label><b>dtype:</b> int64</label>"
            ]
          },
          "metadata": {},
          "execution_count": 16
        }
      ]
    },
    {
      "cell_type": "code",
      "source": [
        "ms.matrix(games)"
      ],
      "metadata": {
        "colab": {
          "base_uri": "https://localhost:8080/",
          "height": 1000
        },
        "id": "mclHxLmBwyAJ",
        "outputId": "ea97d9de-8fff-4323-8b7e-bc33a7363848"
      },
      "execution_count": null,
      "outputs": [
        {
          "output_type": "execute_result",
          "data": {
            "text/plain": [
              "<Axes: >"
            ]
          },
          "metadata": {},
          "execution_count": 65
        },
        {
          "output_type": "display_data",
          "data": {
            "text/plain": [
              "<Figure size 2500x1000 with 2 Axes>"
            ],
            "image/png": "[encoded data removed]"
          },
          "metadata": {}
        }
      ]
    },
    {
      "cell_type": "code",
      "source": [
        "cores = [\"#171a21\",\"#66c0f4\",\"#1b2838\",\"#2a475e\",\"#c7d5e0\"]\n",
        "display(cores)"
      ],
      "metadata": {
        "colab": {
          "base_uri": "https://localhost:8080/",
          "height": 34
        },
        "id": "x8infJ71sRuO",
        "outputId": "f0720fad-487a-48fb-f9c6-30378ade2de3"
      },
      "execution_count": null,
      "outputs": [
        {
          "output_type": "display_data",
          "data": {
            "text/plain": [
              "['#171a21', '#66c0f4', '#1b2838', '#2a475e', '#c7d5e0']"
            ]
          },
          "metadata": {}
        }
      ]
    },
    {
      "cell_type": "markdown",
      "source": [
        "### Resumo estatístico"
      ],
      "metadata": {
        "id": "af-ZGw_GtlRa"
      }
    },
    {
      "cell_type": "code",
      "source": [
        "games.describe()"
      ],
      "metadata": {
        "colab": {
          "base_uri": "https://localhost:8080/",
          "height": 459
        },
        "id": "xEdnD9Rwtqyj",
        "outputId": "8bd4d93c-4800-43be-86d2-43f465693c80"
      },
      "execution_count": null,
      "outputs": [
        {
          "output_type": "execute_result",
          "data": {
            "text/plain": [
              "                        Release date       Peak CCU  Required age  \\\n",
              "count                          85103   85103.000000  85103.000000   \n",
              "mean   2020-04-28 18:59:51.666568960     134.872930      0.312774   \n",
              "min              1997-06-30 00:00:00       0.000000      0.000000   \n",
              "25%              2018-07-01 00:00:00       0.000000      0.000000   \n",
              "50%              2020-12-18 00:00:00       0.000000      0.000000   \n",
              "75%              2022-08-18 00:00:00       1.000000      0.000000   \n",
              "max              2025-04-14 00:00:00  872138.000000     21.000000   \n",
              "std                              NaN    5403.548851      2.254721   \n",
              "\n",
              "              Price     DLC count  Metacritic score    User score  \\\n",
              "count  85103.000000  85103.000000      85103.000000  85103.000000   \n",
              "mean       7.193703      0.543412          3.348366      0.039822   \n",
              "min        0.000000      0.000000          0.000000      0.000000   \n",
              "25%        0.990000      0.000000          0.000000      0.000000   \n",
              "50%        4.490000      0.000000          0.000000      0.000000   \n",
              "75%        9.990000      0.000000          0.000000      0.000000   \n",
              "max      999.980000   2366.000000         97.000000    100.000000   \n",
              "std       12.362478     13.721223         15.421471      1.791013   \n",
              "\n",
              "           Positive       Negative  Achievements  Recommendations  \\\n",
              "count  8.510300e+04   85103.000000  85103.000000     8.510300e+04   \n",
              "mean   9.585609e+02     159.772570     19.859394     7.755176e+02   \n",
              "min    0.000000e+00       0.000000      0.000000     0.000000e+00   \n",
              "25%    0.000000e+00       0.000000      0.000000     0.000000e+00   \n",
              "50%    7.000000e+00       2.000000      0.000000     0.000000e+00   \n",
              "75%    4.500000e+01      14.000000     18.000000     0.000000e+00   \n",
              "max    5.764420e+06  895978.000000   9821.000000     3.441592e+06   \n",
              "std    2.435920e+04    4574.583903    171.446874     1.789338e+04   \n",
              "\n",
              "       Average playtime forever  Average playtime two weeks  \\\n",
              "count              85103.000000                85103.000000   \n",
              "mean                 104.729681                   10.680105   \n",
              "min                    0.000000                    0.000000   \n",
              "25%                    0.000000                    0.000000   \n",
              "50%                    0.000000                    0.000000   \n",
              "75%                    0.000000                    0.000000   \n",
              "max               145727.000000                19159.000000   \n",
              "std                 1142.447517                  188.840006   \n",
              "\n",
              "       Median playtime forever  Median playtime two weeks  \n",
              "count             85103.000000               85103.000000  \n",
              "mean                 93.316029                  11.467328  \n",
              "min                   0.000000                   0.000000  \n",
              "25%                   0.000000                   0.000000  \n",
              "50%                   0.000000                   0.000000  \n",
              "75%                   0.000000                   0.000000  \n",
              "max              208473.000000               19159.000000  \n",
              "std                1510.732101                 205.372944  "
            ],
            "text/html": [
              "\n",
              "  <div id=\"df-deb84fde-7b23-4cc7-b0e3-79be583dcd50\" class=\"colab-df-container\">\n",
              "    <div>\n",
              "<style scoped>\n",
              "    .dataframe tbody tr th:only-of-type {\n",
              "        vertical-align: middle;\n",
              "    }\n",
              "\n",
              "    .dataframe tbody tr th {\n",
              "        vertical-align: top;\n",
              "    }\n",
              "\n",
              "    .dataframe thead th {\n",
              "        text-align: right;\n",
              "    }\n",
              "</style>\n",
              "<table border=\"1\" class=\"dataframe\">\n",
              "  <thead>\n",
              "    <tr style=\"text-align: right;\">\n",
              "      <th></th>\n",
              "      <th>Release date</th>\n",
              "      <th>Peak CCU</th>\n",
              "      <th>Required age</th>\n",
              "      <th>Price</th>\n",
              "      <th>DLC count</th>\n",
              "      <th>Metacritic score</th>\n",
              "      <th>User score</th>\n",
              "      <th>Positive</th>\n",
              "      <th>Negative</th>\n",
              "      <th>Achievements</th>\n",
              "      <th>Recommendations</th>\n",
              "      <th>Average playtime forever</th>\n",
              "      <th>Average playtime two weeks</th>\n",
              "      <th>Median playtime forever</th>\n",
              "      <th>Median playtime two weeks</th>\n",
              "    </tr>\n",
              "  </thead>\n",
              "  <tbody>\n",
              "    <tr>\n",
              "      <th>count</th>\n",
              "      <td>85103</td>\n",
              "      <td>85103.000000</td>\n",
              "      <td>85103.000000</td>\n",
              "      <td>85103.000000</td>\n",
              "      <td>85103.000000</td>\n",
              "      <td>85103.000000</td>\n",
              "      <td>85103.000000</td>\n",
              "      <td>8.510300e+04</td>\n",
              "      <td>85103.000000</td>\n",
              "      <td>85103.000000</td>\n",
              "      <td>8.510300e+04</td>\n",
              "      <td>85103.000000</td>\n",
              "      <td>85103.000000</td>\n",
              "      <td>85103.000000</td>\n",
              "      <td>85103.000000</td>\n",
              "    </tr>\n",
              "    <tr>\n",
              "      <th>mean</th>\n",
              "      <td>2020-04-28 18:59:51.666568960</td>\n",
              "      <td>134.872930</td>\n",
              "      <td>0.312774</td>\n",
              "      <td>7.193703</td>\n",
              "      <td>0.543412</td>\n",
              "      <td>3.348366</td>\n",
              "      <td>0.039822</td>\n",
              "      <td>9.585609e+02</td>\n",
              "      <td>159.772570</td>\n",
              "      <td>19.859394</td>\n",
              "      <td>7.755176e+02</td>\n",
              "      <td>104.729681</td>\n",
              "      <td>10.680105</td>\n",
              "      <td>93.316029</td>\n",
              "      <td>11.467328</td>\n",
              "    </tr>\n",
              "    <tr>\n",
              "      <th>min</th>\n",
              "      <td>1997-06-30 00:00:00</td>\n",
              "      <td>0.000000</td>\n",
              "      <td>0.000000</td>\n",
              "      <td>0.000000</td>\n",
              "      <td>0.000000</td>\n",
              "      <td>0.000000</td>\n",
              "      <td>0.000000</td>\n",
              "      <td>0.000000e+00</td>\n",
              "      <td>0.000000</td>\n",
              "      <td>0.000000</td>\n",
              "      <td>0.000000e+00</td>\n",
              "      <td>0.000000</td>\n",
              "      <td>0.000000</td>\n",
              "      <td>0.000000</td>\n",
              "      <td>0.000000</td>\n",
              "    </tr>\n",
              "    <tr>\n",
              "      <th>25%</th>\n",
              "      <td>2018-07-01 00:00:00</td>\n",
              "      <td>0.000000</td>\n",
              "      <td>0.000000</td>\n",
              "      <td>0.990000</td>\n",
              "      <td>0.000000</td>\n",
              "      <td>0.000000</td>\n",
              "      <td>0.000000</td>\n",
              "      <td>0.000000e+00</td>\n",
              "      <td>0.000000</td>\n",
              "      <td>0.000000</td>\n",
              "      <td>0.000000e+00</td>\n",
              "      <td>0.000000</td>\n",
              "      <td>0.000000</td>\n",
              "      <td>0.000000</td>\n",
              "      <td>0.000000</td>\n",
              "    </tr>\n",
              "    <tr>\n",
              "      <th>50%</th>\n",
              "      <td>2020-12-18 00:00:00</td>\n",
              "      <td>0.000000</td>\n",
              "      <td>0.000000</td>\n",
              "      <td>4.490000</td>\n",
              "      <td>0.000000</td>\n",
              "      <td>0.000000</td>\n",
              "      <td>0.000000</td>\n",
              "      <td>7.000000e+00</td>\n",
              "      <td>2.000000</td>\n",
              "      <td>0.000000</td>\n",
              "      <td>0.000000e+00</td>\n",
              "      <td>0.000000</td>\n",
              "      <td>0.000000</td>\n",
              "      <td>0.000000</td>\n",
              "      <td>0.000000</td>\n",
              "    </tr>\n",
              "    <tr>\n",
              "      <th>75%</th>\n",
              "      <td>2022-08-18 00:00:00</td>\n",
              "      <td>1.000000</td>\n",
              "      <td>0.000000</td>\n",
              "      <td>9.990000</td>\n",
              "      <td>0.000000</td>\n",
              "      <td>0.000000</td>\n",
              "      <td>0.000000</td>\n",
              "      <td>4.500000e+01</td>\n",
              "      <td>14.000000</td>\n",
              "      <td>18.000000</td>\n",
              "      <td>0.000000e+00</td>\n",
              "      <td>0.000000</td>\n",
              "      <td>0.000000</td>\n",
              "      <td>0.000000</td>\n",
              "      <td>0.000000</td>\n",
              "    </tr>\n",
              "    <tr>\n",
              "      <th>max</th>\n",
              "      <td>2025-04-14 00:00:00</td>\n",
              "      <td>872138.000000</td>\n",
              "      <td>21.000000</td>\n",
              "      <td>999.980000</td>\n",
              "      <td>2366.000000</td>\n",
              "      <td>97.000000</td>\n",
              "      <td>100.000000</td>\n",
              "      <td>5.764420e+06</td>\n",
              "      <td>895978.000000</td>\n",
              "      <td>9821.000000</td>\n",
              "      <td>3.441592e+06</td>\n",
              "      <td>145727.000000</td>\n",
              "      <td>19159.000000</td>\n",
              "      <td>208473.000000</td>\n",
              "      <td>19159.000000</td>\n",
              "    </tr>\n",
              "    <tr>\n",
              "      <th>std</th>\n",
              "      <td>NaN</td>\n",
              "      <td>5403.548851</td>\n",
              "      <td>2.254721</td>\n",
              "      <td>12.362478</td>\n",
              "      <td>13.721223</td>\n",
              "      <td>15.421471</td>\n",
              "      <td>1.791013</td>\n",
              "      <td>2.435920e+04</td>\n",
              "      <td>4574.583903</td>\n",
              "      <td>171.446874</td>\n",
              "      <td>1.789338e+04</td>\n",
              "      <td>1142.447517</td>\n",
              "      <td>188.840006</td>\n",
              "      <td>1510.732101</td>\n",
              "      <td>205.372944</td>\n",
              "    </tr>\n",
              "  </tbody>\n",
              "</table>\n",
              "</div>\n",
              "    <div class=\"colab-df-buttons\">\n",
              "\n",
              "  <div class=\"colab-df-container\">\n",
              "    <button class=\"colab-df-convert\" onclick=\"convertToInteractive('df-deb84fde-7b23-4cc7-b0e3-79be583dcd50')\"\n",
              "            title=\"Convert this dataframe to an interactive table.\"\n",
              "            style=\"display:none;\">\n",
              "\n",
              "  <svg xmlns=\"http://www.w3.org/2000/svg\" height=\"24px\" viewBox=\"0 -960 960 960\">\n",
              "    <path d=\"M120-120v-720h720v720H120Zm60-500h600v-160H180v160Zm220 220h160v-160H400v160Zm0 220h160v-160H400v160ZM180-400h160v-160H180v160Zm440 0h160v-160H620v160ZM180-180h160v-160H180v160Zm440 0h160v-160H620v160Z\"/>\n",
              "  </svg>\n",
              "    </button>\n",
              "\n",
              "  <style>\n",
              "    .colab-df-container {\n",
              "      display:flex;\n",
              "      gap: 12px;\n",
              "    }\n",
              "\n",
              "    .colab-df-convert {\n",
              "      background-color: #E8F0FE;\n",
              "      border: none;\n",
              "      border-radius: 50%;\n",
              "      cursor: pointer;\n",
              "      display: none;\n",
              "      fill: #1967D2;\n",
              "      height: 32px;\n",
              "      padding: 0 0 0 0;\n",
              "      width: 32px;\n",
              "    }\n",
              "\n",
              "    .colab-df-convert:hover {\n",
              "      background-color: #E2EBFA;\n",
              "      box-shadow: 0px 1px 2px rgba(60, 64, 67, 0.3), 0px 1px 3px 1px rgba(60, 64, 67, 0.15);\n",
              "      fill: #174EA6;\n",
              "    }\n",
              "\n",
              "    .colab-df-buttons div {\n",
              "      margin-bottom: 4px;\n",
              "    }\n",
              "\n",
              "    [theme=dark] .colab-df-convert {\n",
              "      background-color: #3B4455;\n",
              "      fill: #D2E3FC;\n",
              "    }\n",
              "\n",
              "    [theme=dark] .colab-df-convert:hover {\n",
              "      background-color: #434B5C;\n",
              "      box-shadow: 0px 1px 3px 1px rgba(0, 0, 0, 0.15);\n",
              "      filter: drop-shadow(0px 1px 2px rgba(0, 0, 0, 0.3));\n",
              "      fill: #FFFFFF;\n",
              "    }\n",
              "  </style>\n",
              "\n",
              "    <script>\n",
              "      const buttonEl =\n",
              "        document.querySelector('#df-deb84fde-7b23-4cc7-b0e3-79be583dcd50 button.colab-df-convert');\n",
              "      buttonEl.style.display =\n",
              "        google.colab.kernel.accessAllowed ? 'block' : 'none';\n",
              "\n",
              "      async function convertToInteractive(key) {\n",
              "        const element = document.querySelector('#df-deb84fde-7b23-4cc7-b0e3-79be583dcd50');\n",
              "        const dataTable =\n",
              "          await google.colab.kernel.invokeFunction('convertToInteractive',\n",
              "                                                    [key], {});\n",
              "        if (!dataTable) return;\n",
              "\n",
              "        const docLinkHtml = 'Like what you see? Visit the ' +\n",
              "          '<a target=\"_blank\" href=https://colab.research.google.com/notebooks/data_table.ipynb>data table notebook</a>'\n",
              "          + ' to learn more about interactive tables.';\n",
              "        element.innerHTML = '';\n",
              "        dataTable['output_type'] = 'display_data';\n",
              "        await google.colab.output.renderOutput(dataTable, element);\n",
              "        const docLink = document.createElement('div');\n",
              "        docLink.innerHTML = docLinkHtml;\n",
              "        element.appendChild(docLink);\n",
              "      }\n",
              "    </script>\n",
              "  </div>\n",
              "\n",
              "\n",
              "<div id=\"df-f9afdcf2-fd04-4b18-aa35-b524cb0279f2\">\n",
              "  <button class=\"colab-df-quickchart\" onclick=\"quickchart('df-f9afdcf2-fd04-4b18-aa35-b524cb0279f2')\"\n",
              "            title=\"Suggest charts\"\n",
              "            style=\"display:none;\">\n",
              "\n",
              "<svg xmlns=\"http://www.w3.org/2000/svg\" height=\"24px\"viewBox=\"0 0 24 24\"\n",
              "     width=\"24px\">\n",
              "    <g>\n",
              "        <path d=\"M19 3H5c-1.1 0-2 .9-2 2v14c0 1.1.9 2 2 2h14c1.1 0 2-.9 2-2V5c0-1.1-.9-2-2-2zM9 17H7v-7h2v7zm4 0h-2V7h2v10zm4 0h-2v-4h2v4z\"/>\n",
              "    </g>\n",
              "</svg>\n",
              "  </button>\n",
              "\n",
              "<style>\n",
              "  .colab-df-quickchart {\n",
              "      --bg-color: #E8F0FE;\n",
              "      --fill-color: #1967D2;\n",
              "      --hover-bg-color: #E2EBFA;\n",
              "      --hover-fill-color: #174EA6;\n",
              "      --disabled-fill-color: #AAA;\n",
              "      --disabled-bg-color: #DDD;\n",
              "  }\n",
              "\n",
              "  [theme=dark] .colab-df-quickchart {\n",
              "      --bg-color: #3B4455;\n",
              "      --fill-color: #D2E3FC;\n",
              "      --hover-bg-color: #434B5C;\n",
              "      --hover-fill-color: #FFFFFF;\n",
              "      --disabled-bg-color: #3B4455;\n",
              "      --disabled-fill-color: #666;\n",
              "  }\n",
              "\n",
              "  .colab-df-quickchart {\n",
              "    background-color: var(--bg-color);\n",
              "    border: none;\n",
              "    border-radius: 50%;\n",
              "    cursor: pointer;\n",
              "    display: none;\n",
              "    fill: var(--fill-color);\n",
              "    height: 32px;\n",
              "    padding: 0;\n",
              "    width: 32px;\n",
              "  }\n",
              "\n",
              "  .colab-df-quickchart:hover {\n",
              "    background-color: var(--hover-bg-color);\n",
              "    box-shadow: 0 1px 2px rgba(60, 64, 67, 0.3), 0 1px 3px 1px rgba(60, 64, 67, 0.15);\n",
              "    fill: var(--button-hover-fill-color);\n",
              "  }\n",
              "\n",
              "  .colab-df-quickchart-complete:disabled,\n",
              "  .colab-df-quickchart-complete:disabled:hover {\n",
              "    background-color: var(--disabled-bg-color);\n",
              "    fill: var(--disabled-fill-color);\n",
              "    box-shadow: none;\n",
              "  }\n",
              "\n",
              "  .colab-df-spinner {\n",
              "    border: 2px solid var(--fill-color);\n",
              "    border-color: transparent;\n",
              "    border-bottom-color: var(--fill-color);\n",
              "    animation:\n",
              "      spin 1s steps(1) infinite;\n",
              "  }\n",
              "\n",
              "  @keyframes spin {\n",
              "    0% {\n",
              "      border-color: transparent;\n",
              "      border-bottom-color: var(--fill-color);\n",
              "      border-left-color: var(--fill-color);\n",
              "    }\n",
              "    20% {\n",
              "      border-color: transparent;\n",
              "      border-left-color: var(--fill-color);\n",
              "      border-top-color: var(--fill-color);\n",
              "    }\n",
              "    30% {\n",
              "      border-color: transparent;\n",
              "      border-left-color: var(--fill-color);\n",
              "      border-top-color: var(--fill-color);\n",
              "      border-right-color: var(--fill-color);\n",
              "    }\n",
              "    40% {\n",
              "      border-color: transparent;\n",
              "      border-right-color: var(--fill-color);\n",
              "      border-top-color: var(--fill-color);\n",
              "    }\n",
              "    60% {\n",
              "      border-color: transparent;\n",
              "      border-right-color: var(--fill-color);\n",
              "    }\n",
              "    80% {\n",
              "      border-color: transparent;\n",
              "      border-right-color: var(--fill-color);\n",
              "      border-bottom-color: var(--fill-color);\n",
              "    }\n",
              "    90% {\n",
              "      border-color: transparent;\n",
              "      border-bottom-color: var(--fill-color);\n",
              "    }\n",
              "  }\n",
              "</style>\n",
              "\n",
              "  <script>\n",
              "    async function quickchart(key) {\n",
              "      const quickchartButtonEl =\n",
              "        document.querySelector('#' + key + ' button');\n",
              "      quickchartButtonEl.disabled = true;  // To prevent multiple clicks.\n",
              "      quickchartButtonEl.classList.add('colab-df-spinner');\n",
              "      try {\n",
              "        const charts = await google.colab.kernel.invokeFunction(\n",
              "            'suggestCharts', [key], {});\n",
              "      } catch (error) {\n",
              "        console.error('Error during call to suggestCharts:', error);\n",
              "      }\n",
              "      quickchartButtonEl.classList.remove('colab-df-spinner');\n",
              "      quickchartButtonEl.classList.add('colab-df-quickchart-complete');\n",
              "    }\n",
              "    (() => {\n",
              "      let quickchartButtonEl =\n",
              "        document.querySelector('#df-f9afdcf2-fd04-4b18-aa35-b524cb0279f2 button');\n",
              "      quickchartButtonEl.style.display =\n",
              "        google.colab.kernel.accessAllowed ? 'block' : 'none';\n",
              "    })();\n",
              "  </script>\n",
              "</div>\n",
              "\n",
              "    </div>\n",
              "  </div>\n"
            ],
            "application/vnd.google.colaboratory.intrinsic+json": {
              "type": "dataframe",
              "summary": "{\n  \"name\": \"games\",\n  \"rows\": 8,\n  \"fields\": [\n    {\n      \"column\": \"Release date\",\n      \"properties\": {\n        \"dtype\": \"date\",\n        \"min\": \"1970-01-01 00:00:00.000085103\",\n        \"max\": \"2025-04-14 00:00:00\",\n        \"num_unique_values\": 7,\n        \"samples\": [\n          \"85103\",\n          \"2020-04-28 18:59:51.666568960\",\n          \"2022-08-18 00:00:00\"\n        ],\n        \"semantic_type\": \"\",\n        \"description\": \"\"\n      }\n    },\n    {\n      \"column\": \"Peak CCU\",\n      \"properties\": {\n        \"dtype\": \"number\",\n        \"std\": 305199.7380204317,\n        \"min\": 0.0,\n        \"max\": 872138.0,\n        \"num_unique_values\": 6,\n        \"samples\": [\n          85103.0,\n          134.87293044898536,\n          5403.548851015\n        ],\n        \"semantic_type\": \"\",\n        \"description\": \"\"\n      }\n    },\n    {\n      \"column\": \"Required age\",\n      \"properties\": {\n        \"dtype\": \"number\",\n        \"std\": 30087.26473231196,\n        \"min\": 0.0,\n        \"max\": 85103.0,\n        \"num_unique_values\": 5,\n        \"samples\": [\n          0.31277393276382737,\n          2.2547206411292096,\n          0.0\n        ],\n        \"semantic_type\": \"\",\n        \"description\": \"\"\n      }\n    },\n    {\n      \"column\": \"Price\",\n      \"properties\": {\n        \"dtype\": \"number\",\n        \"std\": 30038.193261550357,\n        \"min\": 0.0,\n        \"max\": 85103.0,\n        \"num_unique_values\": 8,\n        \"samples\": [\n          7.1937026896819125,\n          9.99,\n          85103.0\n        ],\n        \"semantic_type\": \"\",\n        \"description\": \"\"\n      }\n    },\n    {\n      \"column\": \"DLC count\",\n      \"properties\": {\n        \"dtype\": \"number\",\n        \"std\": 29979.64441482395,\n        \"min\": 0.0,\n        \"max\": 85103.0,\n        \"num_unique_values\": 5,\n        \"samples\": [\n          0.5434121006310001,\n          13.721222559680365,\n          0.0\n        ],\n        \"semantic_type\": \"\",\n        \"description\": \"\"\n      }\n    },\n    {\n      \"column\": \"Metacritic score\",\n      \"properties\": {\n        \"dtype\": \"number\",\n        \"std\": 30082.62532582423,\n        \"min\": 0.0,\n        \"max\": 85103.0,\n        \"num_unique_values\": 5,\n        \"samples\": [\n          3.3483660975523777,\n          15.421471345422413,\n          0.0\n        ],\n        \"semantic_type\": \"\",\n        \"description\": \"\"\n      }\n    },\n    {\n      \"column\": \"User score\",\n      \"properties\": {\n        \"dtype\": \"number\",\n        \"std\": 30083.33119970699,\n        \"min\": 0.0,\n        \"max\": 85103.0,\n        \"num_unique_values\": 5,\n        \"samples\": [\n          0.039822332937734274,\n          1.7910130353550895,\n          0.0\n        ],\n        \"semantic_type\": \"\",\n        \"description\": \"\"\n      }\n    },\n    {\n      \"column\": \"Positive\",\n      \"properties\": {\n        \"dtype\": \"number\",\n        \"std\": 2032664.652647617,\n        \"min\": 0.0,\n        \"max\": 5764420.0,\n        \"num_unique_values\": 7,\n        \"samples\": [\n          85103.0,\n          958.5608850451805,\n          5764420.0\n        ],\n        \"semantic_type\": \"\",\n        \"description\": \"\"\n      }\n    },\n    {\n      \"column\": \"Negative\",\n      \"properties\": {\n        \"dtype\": \"number\",\n        \"std\": 313632.4319765475,\n        \"min\": 0.0,\n        \"max\": 895978.0,\n        \"num_unique_values\": 7,\n        \"samples\": [\n          85103.0,\n          159.77256970964595,\n          895978.0\n        ],\n        \"semantic_type\": \"\",\n        \"description\": \"\"\n      }\n    },\n    {\n      \"column\": \"Achievements\",\n      \"properties\": {\n        \"dtype\": \"number\",\n        \"std\": 29779.450050673502,\n        \"min\": 0.0,\n        \"max\": 85103.0,\n        \"num_unique_values\": 6,\n        \"samples\": [\n          85103.0,\n          19.859393910907958,\n          171.44687396622052\n        ],\n        \"semantic_type\": \"\",\n        \"description\": \"\"\n      }\n    },\n    {\n      \"column\": \"Recommendations\",\n      \"properties\": {\n        \"dtype\": \"number\",\n        \"std\": 1211900.4053686513,\n        \"min\": 0.0,\n        \"max\": 3441592.0,\n        \"num_unique_values\": 5,\n        \"samples\": [\n          775.5175728235197,\n          17893.37534753346,\n          0.0\n        ],\n        \"semantic_type\": \"\",\n        \"description\": \"\"\n      }\n    },\n    {\n      \"column\": \"Average playtime forever\",\n      \"properties\": {\n        \"dtype\": \"number\",\n        \"std\": 55738.82754246584,\n        \"min\": 0.0,\n        \"max\": 145727.0,\n        \"num_unique_values\": 5,\n        \"samples\": [\n          104.72968050480007,\n          1142.4475166157213,\n          0.0\n        ],\n        \"semantic_type\": \"\",\n        \"description\": \"\"\n      }\n    },\n    {\n      \"column\": \"Average playtime two weeks\",\n      \"properties\": {\n        \"dtype\": \"number\",\n        \"std\": 29870.18943125579,\n        \"min\": 0.0,\n        \"max\": 85103.0,\n        \"num_unique_values\": 5,\n        \"samples\": [\n          10.680105284185046,\n          188.84000614582826,\n          0.0\n        ],\n        \"semantic_type\": \"\",\n        \"description\": \"\"\n      }\n    },\n    {\n      \"column\": \"Median playtime forever\",\n      \"properties\": {\n        \"dtype\": \"number\",\n        \"std\": 75417.311157518,\n        \"min\": 0.0,\n        \"max\": 208473.0,\n        \"num_unique_values\": 5,\n        \"samples\": [\n          93.31602881214528,\n          1510.732101186809,\n          0.0\n        ],\n        \"semantic_type\": \"\",\n        \"description\": \"\"\n      }\n    },\n    {\n      \"column\": \"Median playtime two weeks\",\n      \"properties\": {\n        \"dtype\": \"number\",\n        \"std\": 29869.123310773695,\n        \"min\": 0.0,\n        \"max\": 85103.0,\n        \"num_unique_values\": 5,\n        \"samples\": [\n          11.467327826281094,\n          205.37294392521122,\n          0.0\n        ],\n        \"semantic_type\": \"\",\n        \"description\": \"\"\n      }\n    }\n  ]\n}"
            }
          },
          "metadata": {},
          "execution_count": 12
        }
      ]
    },
    {
      "cell_type": "markdown",
      "source": [
        "## Visualizações"
      ],
      "metadata": {
        "id": "ICzkCxZVjNFI"
      }
    },
    {
      "cell_type": "code",
      "source": [
        "fig,ax = plt.subplots()\n",
        "ax.boxplot(games[games[\"Price\"]<80][\"Price\"])"
      ],
      "metadata": {
        "colab": {
          "base_uri": "https://localhost:8080/",
          "height": 569
        },
        "id": "Ji4GAJ_czGcY",
        "outputId": "2ed8d56a-b1fa-4086-d008-7861a8a3c1d6"
      },
      "execution_count": 11,
      "outputs": [
        {
          "output_type": "execute_result",
          "data": {
            "text/plain": [
              "{'whiskers': [<matplotlib.lines.Line2D at 0x7d13f90c8880>,\n",
              "  <matplotlib.lines.Line2D at 0x7d13f90c8b20>],\n",
              " 'caps': [<matplotlib.lines.Line2D at 0x7d13f90c8dc0>,\n",
              "  <matplotlib.lines.Line2D at 0x7d13f90c9060>],\n",
              " 'boxes': [<matplotlib.lines.Line2D at 0x7d13f90c85e0>],\n",
              " 'medians': [<matplotlib.lines.Line2D at 0x7d13f90c9300>],\n",
              " 'fliers': [<matplotlib.lines.Line2D at 0x7d13f90c95a0>],\n",
              " 'means': []}"
            ]
          },
          "metadata": {},
          "execution_count": 11
        },
        {
          "output_type": "display_data",
          "data": {
            "text/plain": [
              "<Figure size 640x480 with 1 Axes>"
            ],
            "image/png": "[encoded data removed]"
          },
          "metadata": {}
        }
      ]
    },
    {
      "cell_type": "code",
      "source": [
        "teste = games[\"Estimated owners\"].value_counts()\n",
        "teste.index"
      ],
      "metadata": {
        "colab": {
          "base_uri": "https://localhost:8080/"
        },
        "id": "S7fpJBQJ-cLK",
        "outputId": "21205111-247d-4a9d-cd3f-5243d0501dfa"
      },
      "execution_count": 29,
      "outputs": [
        {
          "output_type": "execute_result",
          "data": {
            "text/plain": [
              "Index(['0 - 20000', '0 - 0', '20000 - 50000', '50000 - 100000',\n",
              "       '100000 - 200000', '200000 - 500000', '500000 - 1000000',\n",
              "       '1000000 - 2000000', '2000000 - 5000000', '5000000 - 10000000',\n",
              "       '10000000 - 20000000', '20000000 - 50000000', '50000000 - 100000000',\n",
              "       '100000000 - 200000000'],\n",
              "      dtype='object', name='Estimated owners')"
            ]
          },
          "metadata": {},
          "execution_count": 29
        }
      ]
    },
    {
      "cell_type": "code",
      "source": [
        "owners_count = games[\"Estimated owners\"].value_counts(ascending = True)\n",
        "fig,ax = plt.subplots(figsize = (8,6))\n",
        "ax.barh(y=owners_count.index,width=owners_count)\n",
        "plt.title(\"Quantidade de donos estimados\")"
      ],
      "metadata": {
        "colab": {
          "base_uri": "https://localhost:8080/",
          "height": 562
        },
        "id": "PHSjIpJ888GC",
        "outputId": "c6cf3770-fc04-4789-c1d5-3cedf6e88df9"
      },
      "execution_count": 37,
      "outputs": [
        {
          "output_type": "execute_result",
          "data": {
            "text/plain": [
              "Text(0.5, 1.0, 'Quantidade de donos estimados')"
            ]
          },
          "metadata": {},
          "execution_count": 37
        },
        {
          "output_type": "display_data",
          "data": {
            "text/plain": [
              "<Figure size 800x600 with 1 Axes>"
            ],
            "image/png": "[encoded data removed]"
          },
          "metadata": {}
        }
      ]
    },
    {
      "cell_type": "markdown",
      "source": [
        "# Pré-Processamento de Dados"
      ],
      "metadata": {
        "id": "eV1muZIM-Jjl"
      }
    },
    {
      "cell_type": "markdown",
      "source": [
        "### Tratamento dos dados"
      ],
      "metadata": {
        "id": "PnXHAoZpkEf_"
      }
    },
    {
      "cell_type": "markdown",
      "source": [
        "Dado que as colunas *Score rank*, *Reviews* e *Notes* apresentam no máximo 15% de valores não nulos, foram desconsideradas nas análises daqui para frente."
      ],
      "metadata": {
        "id": "vT2XazHRsdhE"
      }
    },
    {
      "cell_type": "code",
      "source": [
        "games = games.drop(columns = [\"Reviews\", \"Score rank\",\"Notes\"])"
      ],
      "metadata": {
        "id": "buVtZGTRsNeQ"
      },
      "execution_count": null,
      "outputs": []
    },
    {
      "cell_type": "markdown",
      "source": [
        "# Conclusão"
      ],
      "metadata": {
        "id": "sC9s9v72-rFX"
      }
    },
    {
      "cell_type": "code",
      "source": [
        "# Dicionário de Dados\n",
        "descriptions =\"\"\"Identificador Único,string\n",
        "Nome do Jogo,string\n",
        "Data de Lançamento,string\n",
        "Estimativa de Possuidores,string\n",
        "Número de Usuários Atuais,int\n",
        "Classificação indicativa,int\n",
        "Preço em Dólares Americanos,float\n",
        "Número de DLCs,int\n",
        "Descrição detalhada dos jogos,string\n",
        "Descrição curta dos jogos,string\n",
        "Enumeração separada por vírgula das línguas suportadas, lista de strings\n",
        "Enumeração separada por vírgula das línguas com suporte de aúdio, lista de strings\n",
        "Imagem Principal na Loja,string\n",
        "Website do Jogo,string\n",
        "URL do Suporte do Jogo,string\n",
        "Suporta Windows?,bool\n",
        "Suporta Mac?,bool\n",
        "Suporta Linux?,bool\n",
        "Score do Metacritic,int\n",
        "URL da review do Metecritic,string\n",
        "Score do usuário,int\n",
        "Votos Positivos,int\n",
        "Votos negativos,int\n",
        "Rank do score baseado nas reviews de usuários,string\n",
        "Número de Conquistas,int\n",
        "Recomendações de usuários,int\n",
        "Informações extras,string\n",
        "Tempo de jogo médio desde março de 2009 em minutos,int\n",
        "Average playtime in the last two weeks, in minutes (int).\n",
        "Median playtime since March 2009, in minutes (int).\n",
        "Median playtime in the last two weeks, in minutes (int).\n",
        "Available packages.\n",
        "Package title (string).\n",
        "Package description (string).\n",
        "Subpackages.\n",
        "Subpackage title (string).\n",
        "Subpackage description (string).\n",
        "Subpackage price in USD (float).\n",
        "Game developers.\n",
        "Developer name (string).\n",
        "Game publishers.\n",
        "Publisher name (string).\n",
        "Game categories.\n",
        "Category name (string).\n",
        "Game genres.\n",
        "Gender name (string).\n",
        "Game screenshots.\n",
        "Game screenshot URL,string.\n",
        "Game movies.\n",
        "Game movie URL,string.\n",
        "Tags.\n",
        "Tag key (string, int).\n",
        "\"\"\""
      ],
      "metadata": {
        "id": "8DthDIO20gks"
      },
      "execution_count": null,
      "outputs": []
    }
  ]
}